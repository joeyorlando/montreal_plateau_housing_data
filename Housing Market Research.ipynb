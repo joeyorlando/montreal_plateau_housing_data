{
 "cells": [
  {
   "cell_type": "code",
   "execution_count": 93,
   "metadata": {},
   "outputs": [],
   "source": [
    "import pandas as pd\n",
    "import numpy as np\n",
    "import matplotlib.pyplot as plt\n",
    "from sklearn import linear_model\n",
    "from sklearn.model_selection import train_test_split\n",
    "from sklearn.metrics import mean_squared_error, r2_score, confusion_matrix\n",
    "\n",
    "%matplotlib inline"
   ]
  },
  {
   "cell_type": "code",
   "execution_count": 71,
   "metadata": {},
   "outputs": [],
   "source": [
    "prediction_column = 'sale_price'\n",
    "input_columns = ['centris_no', 'municipal_value', 'year_constructed', 'bedrooms',\n",
    "           'bathrooms', 'square_feet', 'neighborhood']\n",
    "\n",
    "all_columns = input_columns.copy()\n",
    "all_columns.append(prediction_column)\n",
    "\n",
    "plateau = 'plateau'"
   ]
  },
  {
   "cell_type": "code",
   "execution_count": 72,
   "metadata": {},
   "outputs": [
    {
     "data": {
      "text/html": [
       "<div>\n",
       "<style scoped>\n",
       "    .dataframe tbody tr th:only-of-type {\n",
       "        vertical-align: middle;\n",
       "    }\n",
       "\n",
       "    .dataframe tbody tr th {\n",
       "        vertical-align: top;\n",
       "    }\n",
       "\n",
       "    .dataframe thead th {\n",
       "        text-align: right;\n",
       "    }\n",
       "</style>\n",
       "<table border=\"1\" class=\"dataframe\">\n",
       "  <thead>\n",
       "    <tr style=\"text-align: right;\">\n",
       "      <th></th>\n",
       "      <th>centris_no</th>\n",
       "      <th>sale_price</th>\n",
       "      <th>municipal_value</th>\n",
       "      <th>year_constructed</th>\n",
       "      <th>bedrooms</th>\n",
       "      <th>bathrooms</th>\n",
       "      <th>square_feet</th>\n",
       "      <th>neighborhood</th>\n",
       "    </tr>\n",
       "  </thead>\n",
       "  <tbody>\n",
       "    <tr>\n",
       "      <th>0</th>\n",
       "      <td>23944583</td>\n",
       "      <td>698000</td>\n",
       "      <td>554700</td>\n",
       "      <td>2001</td>\n",
       "      <td>3</td>\n",
       "      <td>2</td>\n",
       "      <td>1102</td>\n",
       "      <td>plateau</td>\n",
       "    </tr>\n",
       "    <tr>\n",
       "      <th>1</th>\n",
       "      <td>24217373</td>\n",
       "      <td>519000</td>\n",
       "      <td>349500</td>\n",
       "      <td>1970</td>\n",
       "      <td>3</td>\n",
       "      <td>2</td>\n",
       "      <td>1117</td>\n",
       "      <td>plateau</td>\n",
       "    </tr>\n",
       "    <tr>\n",
       "      <th>2</th>\n",
       "      <td>22474730</td>\n",
       "      <td>600000</td>\n",
       "      <td>398600</td>\n",
       "      <td>1900</td>\n",
       "      <td>3</td>\n",
       "      <td>2</td>\n",
       "      <td>1114</td>\n",
       "      <td>plateau</td>\n",
       "    </tr>\n",
       "    <tr>\n",
       "      <th>3</th>\n",
       "      <td>18082666</td>\n",
       "      <td>645000</td>\n",
       "      <td>470000</td>\n",
       "      <td>2018</td>\n",
       "      <td>2</td>\n",
       "      <td>2</td>\n",
       "      <td>746</td>\n",
       "      <td>plateau</td>\n",
       "    </tr>\n",
       "    <tr>\n",
       "      <th>4</th>\n",
       "      <td>19968722</td>\n",
       "      <td>794650</td>\n",
       "      <td>730000</td>\n",
       "      <td>2019</td>\n",
       "      <td>3</td>\n",
       "      <td>2</td>\n",
       "      <td>1697</td>\n",
       "      <td>plateau</td>\n",
       "    </tr>\n",
       "  </tbody>\n",
       "</table>\n",
       "</div>"
      ],
      "text/plain": [
       "   centris_no  sale_price  municipal_value  year_constructed  bedrooms  \\\n",
       "0    23944583      698000           554700              2001         3   \n",
       "1    24217373      519000           349500              1970         3   \n",
       "2    22474730      600000           398600              1900         3   \n",
       "3    18082666      645000           470000              2018         2   \n",
       "4    19968722      794650           730000              2019         3   \n",
       "\n",
       "   bathrooms  square_feet neighborhood  \n",
       "0          2         1102      plateau  \n",
       "1          2         1117      plateau  \n",
       "2          2         1114      plateau  \n",
       "3          2          746      plateau  \n",
       "4          2         1697      plateau  "
      ]
     },
     "execution_count": 72,
     "metadata": {},
     "output_type": "execute_result"
    }
   ],
   "source": [
    "listings_df = pd.read_csv('./data/listings.csv', usecols=all_columns)\n",
    "listings_df.head()"
   ]
  },
  {
   "cell_type": "code",
   "execution_count": 73,
   "metadata": {},
   "outputs": [
    {
     "data": {
      "text/html": [
       "<div>\n",
       "<style scoped>\n",
       "    .dataframe tbody tr th:only-of-type {\n",
       "        vertical-align: middle;\n",
       "    }\n",
       "\n",
       "    .dataframe tbody tr th {\n",
       "        vertical-align: top;\n",
       "    }\n",
       "\n",
       "    .dataframe thead th {\n",
       "        text-align: right;\n",
       "    }\n",
       "</style>\n",
       "<table border=\"1\" class=\"dataframe\">\n",
       "  <thead>\n",
       "    <tr style=\"text-align: right;\">\n",
       "      <th></th>\n",
       "      <th>centris_no</th>\n",
       "      <th>sale_price</th>\n",
       "      <th>municipal_value</th>\n",
       "      <th>year_constructed</th>\n",
       "      <th>bedrooms</th>\n",
       "      <th>bathrooms</th>\n",
       "      <th>square_feet</th>\n",
       "      <th>neighborhood</th>\n",
       "    </tr>\n",
       "  </thead>\n",
       "  <tbody>\n",
       "    <tr>\n",
       "      <th>0</th>\n",
       "      <td>25653682</td>\n",
       "      <td>408000</td>\n",
       "      <td>285600</td>\n",
       "      <td>2000</td>\n",
       "      <td>3</td>\n",
       "      <td>1</td>\n",
       "      <td>1002</td>\n",
       "      <td>plateau</td>\n",
       "    </tr>\n",
       "    <tr>\n",
       "      <th>1</th>\n",
       "      <td>13654462</td>\n",
       "      <td>445000</td>\n",
       "      <td>312100</td>\n",
       "      <td>1995</td>\n",
       "      <td>3</td>\n",
       "      <td>2</td>\n",
       "      <td>1032</td>\n",
       "      <td>villeray</td>\n",
       "    </tr>\n",
       "    <tr>\n",
       "      <th>2</th>\n",
       "      <td>19148165</td>\n",
       "      <td>451000</td>\n",
       "      <td>350000</td>\n",
       "      <td>1999</td>\n",
       "      <td>2</td>\n",
       "      <td>2</td>\n",
       "      <td>1087</td>\n",
       "      <td>plateau</td>\n",
       "    </tr>\n",
       "    <tr>\n",
       "      <th>3</th>\n",
       "      <td>22688488</td>\n",
       "      <td>491194</td>\n",
       "      <td>281000</td>\n",
       "      <td>1991</td>\n",
       "      <td>2</td>\n",
       "      <td>1</td>\n",
       "      <td>1146</td>\n",
       "      <td>plateau</td>\n",
       "    </tr>\n",
       "    <tr>\n",
       "      <th>4</th>\n",
       "      <td>14211513</td>\n",
       "      <td>550000</td>\n",
       "      <td>575400</td>\n",
       "      <td>1997</td>\n",
       "      <td>4</td>\n",
       "      <td>2</td>\n",
       "      <td>2000</td>\n",
       "      <td>rosemont</td>\n",
       "    </tr>\n",
       "  </tbody>\n",
       "</table>\n",
       "</div>"
      ],
      "text/plain": [
       "   centris_no  sale_price  municipal_value  year_constructed  bedrooms  \\\n",
       "0    25653682      408000           285600              2000         3   \n",
       "1    13654462      445000           312100              1995         3   \n",
       "2    19148165      451000           350000              1999         2   \n",
       "3    22688488      491194           281000              1991         2   \n",
       "4    14211513      550000           575400              1997         4   \n",
       "\n",
       "   bathrooms  square_feet neighborhood  \n",
       "0          1         1002      plateau  \n",
       "1          2         1032     villeray  \n",
       "2          2         1087      plateau  \n",
       "3          1         1146      plateau  \n",
       "4          2         2000     rosemont  "
      ]
     },
     "execution_count": 73,
     "metadata": {},
     "output_type": "execute_result"
    }
   ],
   "source": [
    "sales_df = pd.read_csv('./data/sales.csv', usecols=all_columns)\n",
    "sales_df.head()"
   ]
  },
  {
   "cell_type": "code",
   "execution_count": 74,
   "metadata": {},
   "outputs": [
    {
     "data": {
      "text/html": [
       "<div>\n",
       "<style scoped>\n",
       "    .dataframe tbody tr th:only-of-type {\n",
       "        vertical-align: middle;\n",
       "    }\n",
       "\n",
       "    .dataframe tbody tr th {\n",
       "        vertical-align: top;\n",
       "    }\n",
       "\n",
       "    .dataframe thead th {\n",
       "        text-align: right;\n",
       "    }\n",
       "</style>\n",
       "<table border=\"1\" class=\"dataframe\">\n",
       "  <thead>\n",
       "    <tr style=\"text-align: right;\">\n",
       "      <th></th>\n",
       "      <th>centris_no</th>\n",
       "      <th>sale_price</th>\n",
       "      <th>municipal_value</th>\n",
       "      <th>year_constructed</th>\n",
       "      <th>bedrooms</th>\n",
       "      <th>bathrooms</th>\n",
       "      <th>square_feet</th>\n",
       "      <th>neighborhood</th>\n",
       "    </tr>\n",
       "  </thead>\n",
       "  <tbody>\n",
       "    <tr>\n",
       "      <th>0</th>\n",
       "      <td>23944583</td>\n",
       "      <td>698000</td>\n",
       "      <td>554700</td>\n",
       "      <td>2001</td>\n",
       "      <td>3</td>\n",
       "      <td>2</td>\n",
       "      <td>1102</td>\n",
       "      <td>plateau</td>\n",
       "    </tr>\n",
       "    <tr>\n",
       "      <th>1</th>\n",
       "      <td>24217373</td>\n",
       "      <td>519000</td>\n",
       "      <td>349500</td>\n",
       "      <td>1970</td>\n",
       "      <td>3</td>\n",
       "      <td>2</td>\n",
       "      <td>1117</td>\n",
       "      <td>plateau</td>\n",
       "    </tr>\n",
       "    <tr>\n",
       "      <th>2</th>\n",
       "      <td>22474730</td>\n",
       "      <td>600000</td>\n",
       "      <td>398600</td>\n",
       "      <td>1900</td>\n",
       "      <td>3</td>\n",
       "      <td>2</td>\n",
       "      <td>1114</td>\n",
       "      <td>plateau</td>\n",
       "    </tr>\n",
       "    <tr>\n",
       "      <th>3</th>\n",
       "      <td>18082666</td>\n",
       "      <td>645000</td>\n",
       "      <td>470000</td>\n",
       "      <td>2018</td>\n",
       "      <td>2</td>\n",
       "      <td>2</td>\n",
       "      <td>746</td>\n",
       "      <td>plateau</td>\n",
       "    </tr>\n",
       "    <tr>\n",
       "      <th>4</th>\n",
       "      <td>19968722</td>\n",
       "      <td>794650</td>\n",
       "      <td>730000</td>\n",
       "      <td>2019</td>\n",
       "      <td>3</td>\n",
       "      <td>2</td>\n",
       "      <td>1697</td>\n",
       "      <td>plateau</td>\n",
       "    </tr>\n",
       "  </tbody>\n",
       "</table>\n",
       "</div>"
      ],
      "text/plain": [
       "   centris_no  sale_price  municipal_value  year_constructed  bedrooms  \\\n",
       "0    23944583      698000           554700              2001         3   \n",
       "1    24217373      519000           349500              1970         3   \n",
       "2    22474730      600000           398600              1900         3   \n",
       "3    18082666      645000           470000              2018         2   \n",
       "4    19968722      794650           730000              2019         3   \n",
       "\n",
       "   bathrooms  square_feet neighborhood  \n",
       "0          2         1102      plateau  \n",
       "1          2         1117      plateau  \n",
       "2          2         1114      plateau  \n",
       "3          2          746      plateau  \n",
       "4          2         1697      plateau  "
      ]
     },
     "execution_count": 74,
     "metadata": {},
     "output_type": "execute_result"
    }
   ],
   "source": [
    "combined_df = listings_df.copy().append(sales_df)\n",
    "combined_df.head()"
   ]
  },
  {
   "cell_type": "code",
   "execution_count": 75,
   "metadata": {},
   "outputs": [
    {
     "data": {
      "text/html": [
       "<div>\n",
       "<style scoped>\n",
       "    .dataframe tbody tr th:only-of-type {\n",
       "        vertical-align: middle;\n",
       "    }\n",
       "\n",
       "    .dataframe tbody tr th {\n",
       "        vertical-align: top;\n",
       "    }\n",
       "\n",
       "    .dataframe thead th {\n",
       "        text-align: right;\n",
       "    }\n",
       "</style>\n",
       "<table border=\"1\" class=\"dataframe\">\n",
       "  <thead>\n",
       "    <tr style=\"text-align: right;\">\n",
       "      <th></th>\n",
       "      <th>centris_no</th>\n",
       "      <th>sale_price</th>\n",
       "      <th>municipal_value</th>\n",
       "      <th>year_constructed</th>\n",
       "      <th>bedrooms</th>\n",
       "      <th>bathrooms</th>\n",
       "      <th>square_feet</th>\n",
       "      <th>neighborhood</th>\n",
       "    </tr>\n",
       "  </thead>\n",
       "  <tbody>\n",
       "    <tr>\n",
       "      <th>3</th>\n",
       "      <td>18082666</td>\n",
       "      <td>645000</td>\n",
       "      <td>470000</td>\n",
       "      <td>2018</td>\n",
       "      <td>2</td>\n",
       "      <td>2</td>\n",
       "      <td>746</td>\n",
       "      <td>plateau</td>\n",
       "    </tr>\n",
       "    <tr>\n",
       "      <th>6</th>\n",
       "      <td>18027048</td>\n",
       "      <td>895000</td>\n",
       "      <td>636300</td>\n",
       "      <td>1975</td>\n",
       "      <td>2</td>\n",
       "      <td>2</td>\n",
       "      <td>1800</td>\n",
       "      <td>plateau</td>\n",
       "    </tr>\n",
       "    <tr>\n",
       "      <th>9</th>\n",
       "      <td>27739102</td>\n",
       "      <td>949000</td>\n",
       "      <td>813600</td>\n",
       "      <td>1910</td>\n",
       "      <td>2</td>\n",
       "      <td>2</td>\n",
       "      <td>1512</td>\n",
       "      <td>plateau</td>\n",
       "    </tr>\n",
       "    <tr>\n",
       "      <th>10</th>\n",
       "      <td>17223418</td>\n",
       "      <td>1095000</td>\n",
       "      <td>820400</td>\n",
       "      <td>2012</td>\n",
       "      <td>2</td>\n",
       "      <td>2</td>\n",
       "      <td>1823</td>\n",
       "      <td>plateau</td>\n",
       "    </tr>\n",
       "    <tr>\n",
       "      <th>17</th>\n",
       "      <td>11000889</td>\n",
       "      <td>797000</td>\n",
       "      <td>522350</td>\n",
       "      <td>1900</td>\n",
       "      <td>2</td>\n",
       "      <td>2</td>\n",
       "      <td>1235</td>\n",
       "      <td>plateau</td>\n",
       "    </tr>\n",
       "    <tr>\n",
       "      <th>18</th>\n",
       "      <td>24166084</td>\n",
       "      <td>879900</td>\n",
       "      <td>771000</td>\n",
       "      <td>1900</td>\n",
       "      <td>2</td>\n",
       "      <td>2</td>\n",
       "      <td>1513</td>\n",
       "      <td>plateau</td>\n",
       "    </tr>\n",
       "    <tr>\n",
       "      <th>19</th>\n",
       "      <td>16821505</td>\n",
       "      <td>889000</td>\n",
       "      <td>659300</td>\n",
       "      <td>1889</td>\n",
       "      <td>2</td>\n",
       "      <td>2</td>\n",
       "      <td>1484</td>\n",
       "      <td>plateau</td>\n",
       "    </tr>\n",
       "    <tr>\n",
       "      <th>20</th>\n",
       "      <td>17540576</td>\n",
       "      <td>899000</td>\n",
       "      <td>785200</td>\n",
       "      <td>1915</td>\n",
       "      <td>2</td>\n",
       "      <td>2</td>\n",
       "      <td>1689</td>\n",
       "      <td>plateau</td>\n",
       "    </tr>\n",
       "  </tbody>\n",
       "</table>\n",
       "</div>"
      ],
      "text/plain": [
       "    centris_no  sale_price  municipal_value  year_constructed  bedrooms  \\\n",
       "3     18082666      645000           470000              2018         2   \n",
       "6     18027048      895000           636300              1975         2   \n",
       "9     27739102      949000           813600              1910         2   \n",
       "10    17223418     1095000           820400              2012         2   \n",
       "17    11000889      797000           522350              1900         2   \n",
       "18    24166084      879900           771000              1900         2   \n",
       "19    16821505      889000           659300              1889         2   \n",
       "20    17540576      899000           785200              1915         2   \n",
       "\n",
       "    bathrooms  square_feet neighborhood  \n",
       "3           2          746      plateau  \n",
       "6           2         1800      plateau  \n",
       "9           2         1512      plateau  \n",
       "10          2         1823      plateau  \n",
       "17          2         1235      plateau  \n",
       "18          2         1513      plateau  \n",
       "19          2         1484      plateau  \n",
       "20          2         1689      plateau  "
      ]
     },
     "execution_count": 75,
     "metadata": {},
     "output_type": "execute_result"
    }
   ],
   "source": [
    "current_listings = listings_df[(listings_df.bedrooms == 2) & (listings_df.bathrooms == 2)]\n",
    "current_listings"
   ]
  },
  {
   "cell_type": "code",
   "execution_count": 76,
   "metadata": {},
   "outputs": [
    {
     "data": {
      "text/plain": [
       "892000.0"
      ]
     },
     "execution_count": 76,
     "metadata": {},
     "output_type": "execute_result"
    }
   ],
   "source": [
    "current_listings.sale_price.median()"
   ]
  },
  {
   "cell_type": "code",
   "execution_count": 149,
   "metadata": {},
   "outputs": [
    {
     "name": "stdout",
     "output_type": "stream",
     "text": [
      "Total listings: 34\n"
     ]
    },
    {
     "data": {
      "text/html": [
       "<div>\n",
       "<style scoped>\n",
       "    .dataframe tbody tr th:only-of-type {\n",
       "        vertical-align: middle;\n",
       "    }\n",
       "\n",
       "    .dataframe tbody tr th {\n",
       "        vertical-align: top;\n",
       "    }\n",
       "\n",
       "    .dataframe thead th {\n",
       "        text-align: right;\n",
       "    }\n",
       "</style>\n",
       "<table border=\"1\" class=\"dataframe\">\n",
       "  <thead>\n",
       "    <tr style=\"text-align: right;\">\n",
       "      <th></th>\n",
       "      <th>centris_no</th>\n",
       "      <th>sale_price</th>\n",
       "      <th>municipal_value</th>\n",
       "      <th>year_constructed</th>\n",
       "      <th>bedrooms</th>\n",
       "      <th>bathrooms</th>\n",
       "      <th>square_feet</th>\n",
       "      <th>neighborhood</th>\n",
       "    </tr>\n",
       "  </thead>\n",
       "  <tbody>\n",
       "    <tr>\n",
       "      <th>4</th>\n",
       "      <td>14211513</td>\n",
       "      <td>550000</td>\n",
       "      <td>575400</td>\n",
       "      <td>1997</td>\n",
       "      <td>4</td>\n",
       "      <td>2</td>\n",
       "      <td>2000</td>\n",
       "      <td>rosemont</td>\n",
       "    </tr>\n",
       "  </tbody>\n",
       "</table>\n",
       "</div>"
      ],
      "text/plain": [
       "   centris_no  sale_price  municipal_value  year_constructed  bedrooms  \\\n",
       "4    14211513      550000           575400              1997         4   \n",
       "\n",
       "   bathrooms  square_feet neighborhood  \n",
       "4          2         2000     rosemont  "
      ]
     },
     "execution_count": 149,
     "metadata": {},
     "output_type": "execute_result"
    }
   ],
   "source": [
    "print(f\"Total listings: {len(combined_df)}\")\n",
    "combined_df[combined_df.municipal_value > combined_df.sale_price]"
   ]
  },
  {
   "cell_type": "code",
   "execution_count": 157,
   "metadata": {},
   "outputs": [],
   "source": [
    "# Build training set\n",
    "# training_data = listings_df.copy()\n",
    "training_data = combined_df.copy()[combined_df.neighborhood == plateau]\n",
    "\n",
    "X = training_data[input_columns]\n",
    "del X['centris_no']\n",
    "del X['neighborhood']\n",
    "del X['year_constructed']\n",
    "\n",
    "y = training_data[prediction_column]\n",
    "\n",
    "X_train, X_test, y_train, y_test = train_test_split(X, y, test_size=0.33, random_state=42)"
   ]
  },
  {
   "cell_type": "code",
   "execution_count": 158,
   "metadata": {},
   "outputs": [
    {
     "data": {
      "text/plain": [
       "LinearRegression()"
      ]
     },
     "execution_count": 158,
     "metadata": {},
     "output_type": "execute_result"
    }
   ],
   "source": [
    "# Train model\n",
    "regr = linear_model.LinearRegression()\n",
    "regr.fit(X_train, y_train)"
   ]
  },
  {
   "cell_type": "code",
   "execution_count": 159,
   "metadata": {},
   "outputs": [],
   "source": [
    "# Make predictions using testing set\n",
    "y_pred = regr.predict(X_test)"
   ]
  },
  {
   "cell_type": "code",
   "execution_count": 160,
   "metadata": {},
   "outputs": [
    {
     "name": "stdout",
     "output_type": "stream",
     "text": [
      "Coefficients: \n",
      " [7.43439759e-01 4.10073848e+03 5.58554016e+04 1.90483010e+02]\n",
      "Mean squared error: 13876058083.75\n",
      "Coefficient of determination: 0.87\n"
     ]
    }
   ],
   "source": [
    "print('Coefficients: \\n', regr.coef_)\n",
    "print('Mean squared error: %.2f' % mean_squared_error(y_test, y_pred))\n",
    "print('Coefficient of determination: %.2f' % r2_score(y_test, y_pred))"
   ]
  },
  {
   "cell_type": "code",
   "execution_count": 161,
   "metadata": {},
   "outputs": [
    {
     "data": {
      "text/html": [
       "<div>\n",
       "<style scoped>\n",
       "    .dataframe tbody tr th:only-of-type {\n",
       "        vertical-align: middle;\n",
       "    }\n",
       "\n",
       "    .dataframe tbody tr th {\n",
       "        vertical-align: top;\n",
       "    }\n",
       "\n",
       "    .dataframe thead th {\n",
       "        text-align: right;\n",
       "    }\n",
       "</style>\n",
       "<table border=\"1\" class=\"dataframe\">\n",
       "  <thead>\n",
       "    <tr style=\"text-align: right;\">\n",
       "      <th></th>\n",
       "      <th>municipal_value</th>\n",
       "      <th>bedrooms</th>\n",
       "      <th>bathrooms</th>\n",
       "      <th>square_feet</th>\n",
       "    </tr>\n",
       "  </thead>\n",
       "  <tbody>\n",
       "    <tr>\n",
       "      <th>0</th>\n",
       "      <td>635100</td>\n",
       "      <td>2</td>\n",
       "      <td>2</td>\n",
       "      <td>1108</td>\n",
       "    </tr>\n",
       "  </tbody>\n",
       "</table>\n",
       "</div>"
      ],
      "text/plain": [
       "   municipal_value  bedrooms  bathrooms  square_feet\n",
       "0           635100         2          2         1108"
      ]
     },
     "execution_count": 161,
     "metadata": {},
     "output_type": "execute_result"
    }
   ],
   "source": [
    "our_house = pd.DataFrame({\n",
    "    'municipal_value': [635100],\n",
    "    'bedrooms': [2],\n",
    "    'bathrooms': [2],\n",
    "    'square_feet': [1108],\n",
    "})\n",
    "our_house.head()"
   ]
  },
  {
   "cell_type": "code",
   "execution_count": 162,
   "metadata": {},
   "outputs": [
    {
     "name": "stdout",
     "output_type": "stream",
     "text": [
      "[754905.70513529]\n"
     ]
    }
   ],
   "source": [
    "predicted_listing_price = regr.predict(our_house)\n",
    "print(predicted_listing_price)"
   ]
  },
  {
   "cell_type": "code",
   "execution_count": 165,
   "metadata": {},
   "outputs": [
    {
     "data": {
      "image/png": "[encoded data removed]",
      "text/plain": [
       "<Figure size 432x288 with 1 Axes>"
      ]
     },
     "metadata": {
      "needs_background": "light"
     },
     "output_type": "display_data"
    }
   ],
   "source": [
    "# Plot outputs\n",
    "# plt.scatter(X_test, y_test,  color='black')\n",
    "plt.scatter(y_test, y_pred, color='blue', linewidth=3)\n",
    "\n",
    "plt.xticks()\n",
    "plt.yticks()\n",
    "plt.ylabel('Actual Price')\n",
    "plt.xlabel('Predicted Price')\n",
    "\n",
    "plt.show()"
   ]
  },
  {
   "cell_type": "code",
   "execution_count": null,
   "metadata": {},
   "outputs": [],
   "source": []
  }
 ],
 "metadata": {
  "kernelspec": {
   "display_name": "Python 3",
   "language": "python",
   "name": "python3"
  },
  "language_info": {
   "codemirror_mode": {
    "name": "ipython",
    "version": 3
   },
   "file_extension": ".py",
   "mimetype": "text/x-python",
   "name": "python",
   "nbconvert_exporter": "python",
   "pygments_lexer": "ipython3",
   "version": "3.8.2"
  }
 },
 "nbformat": 4,
 "nbformat_minor": 4
}
